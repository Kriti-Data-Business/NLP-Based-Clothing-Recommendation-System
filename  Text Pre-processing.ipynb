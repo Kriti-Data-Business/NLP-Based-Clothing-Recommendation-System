{
 "cells": [
  {
   "cell_type": "markdown",
   "metadata": {},
   "source": [
    "# Assignment 2: Milestone I Natural Language Processing\n",
    "## Task 1. Basic Text Pre-processing\n",
    "#### Student Name: Kriti Yadav\n",
    "#### Student ID: s4109283\n",
    "\n",
    "\n",
    "Environment: Python 3 and Jupyter notebook\n",
    "\n",
    "Libraries used: \n",
    "* pandas\n",
    "* re\n",
    "* collections\n",
    "* matplotlib.pyplot\n",
    "* seaborn\n",
    "\n",
    "## Introduction\n",
    "Loading and Examining the data(EDA) before preprocessing.\n",
    "## Task 1: Basic Text Pre-processing\n",
    "\n",
    "In this task, we are cleaning and preparing a set of clothing reviews for further analysis in task 2 and 3. The main goal is to remove unnecessary noise from the data, making it easier to work with when building machine learning models later.\n",
    "\n",
    "### Key Steps for Task 1 are as folllows:\n",
    "1. **Tokenizing the Text**: Breaking each review into individual words (tokens) using a regular expression that handles words with hyphens (-) or apostrophes( \"\"). This is important so we can later analyze the words separately.\n",
    "\n",
    "2. **Converting to Lowercase**: All words are being converted to lowercase to ensure consistency. This prevents the same word in different cases (e.g., \"Great\" and \"great\") from being treated as different words.\n",
    "\n",
    "3. **Removing Stopwords**: We are removing common words like \"and\", \"the\", or \"is\" using a provided list. These words don’t carry useful information for our analysis and can be safely excluded.\n",
    "\n",
    "4. **Filtering Rare and Frequent Words**:\n",
    "   - **Rare Words**: Words that appear only once in the entire dataset are removed because they don’t add much value and can make the data noisier.\n",
    "   - **Frequent Words**: The 20 most common words are also removed, as they appear too often to provide meaningful insight.\n",
    "\n",
    "5. **Removing Short Words**: Words that are shorter than two characters are excluded because they usually don’t hold much meaning in this context.\n",
    "\n",
    "6. **Building a Vocabulary**: After cleaning the text, we are creating a vocabulary of the remaining words. Each word is assigned an index, which helps in converting the text into a numerical format for later analysis.\n",
    "\n",
    "### Output:\n",
    "- **Processed Reviews**: The cleaned reviews are saved in `processed.csv`, with all the unwanted words removed.\n",
    "- **Vocabulary File**: The vocabulary, sorted alphabetically and indexed, is saved as `vocab.txt`. This will be useful for converting text into numeric data for machine learning models.\n",
    "\n",
    "The usecase of doing the above mentioned steps is to simplify and standardize the text data so that it’s easier to analyze and use for classification tasks 2 and 3.\n"
   ]
  },
  {
   "cell_type": "markdown",
   "metadata": {},
   "source": [
    "## Importing libraries "
   ]
  },
  {
   "cell_type": "code",
   "execution_count": 1,
   "metadata": {},
   "outputs": [],
   "source": [
    "# Imporingt libraries needed in this assessment\n",
    "import pandas as pd\n",
    "import re                       #re for tokenizing the text based on the given regular expression.\n",
    "from collections import Counter # Counter to count word frequencies.\n",
    "import matplotlib.pyplot as plt\n",
    "import seaborn as sns"
   ]
  },
  {
   "cell_type": "markdown",
   "metadata": {},
   "source": [
    "### 1.1 Examining and loading data\n",
    "\n",
    "- Loading the dataset into proper data structures and get it ready for processing.\n",
    "- Examine the data and explaining the  findings"
   ]
  },
  {
   "cell_type": "code",
   "execution_count": 2,
   "metadata": {},
   "outputs": [],
   "source": [
    "# Step 1: Loading Dataset\n",
    "clothing = pd.read_csv('assignment3.csv')  # Replace with actual file path\n",
    "reviews = clothing['Review Text']"
   ]
  },
  {
   "cell_type": "code",
   "execution_count": 3,
   "metadata": {},
   "outputs": [
    {
     "name": "stdout",
     "output_type": "stream",
     "text": [
      "\n",
      "Statistics about review lengths (number of words):\n",
      "count    19662.000000\n",
      "mean        62.115146\n",
      "std         28.200497\n",
      "min          2.000000\n",
      "25%         38.000000\n",
      "50%         62.000000\n",
      "75%         90.000000\n",
      "max        115.000000\n",
      "Name: Review Length, dtype: float64\n"
     ]
    }
   ],
   "source": [
    "# Basic statistics about the length of reviews\n",
    "clothing['Review Length'] = reviews.apply(lambda x: len(str(x).split()))\n",
    "print(\"\\nStatistics about review lengths (number of words):\")\n",
    "print(clothing['Review Length'].describe())"
   ]
  },
  {
   "cell_type": "markdown",
   "metadata": {},
   "source": [
    "### Examining the dataset (EDA): "
   ]
  },
  {
   "cell_type": "code",
   "execution_count": 4,
   "metadata": {},
   "outputs": [
    {
     "name": "stdout",
     "output_type": "stream",
     "text": [
      "Basic Information about the Dataset:\n",
      "<class 'pandas.core.frame.DataFrame'>\n",
      "RangeIndex: 19662 entries, 0 to 19661\n",
      "Data columns (total 11 columns):\n",
      " #   Column                   Non-Null Count  Dtype \n",
      "---  ------                   --------------  ----- \n",
      " 0   Clothing ID              19662 non-null  int64 \n",
      " 1   Age                      19662 non-null  int64 \n",
      " 2   Title                    19662 non-null  object\n",
      " 3   Review Text              19662 non-null  object\n",
      " 4   Rating                   19662 non-null  int64 \n",
      " 5   Recommended IND          19662 non-null  int64 \n",
      " 6   Positive Feedback Count  19662 non-null  int64 \n",
      " 7   Division Name            19662 non-null  object\n",
      " 8   Department Name          19662 non-null  object\n",
      " 9   Class Name               19662 non-null  object\n",
      " 10  Review Length            19662 non-null  int64 \n",
      "dtypes: int64(6), object(5)\n",
      "memory usage: 1.7+ MB\n",
      "\n",
      "First few rows of the dataset:\n",
      "   Clothing ID  Age                    Title  \\\n",
      "0         1077   60  Some major design flaws   \n",
      "1         1049   50         My favorite buy!   \n",
      "2          847   47         Flattering shirt   \n",
      "3         1080   49  Not for the very petite   \n",
      "4          858   39     Cagrcoal shimmer fun   \n",
      "\n",
      "                                         Review Text  Rating  Recommended IND  \\\n",
      "0  I had such high hopes for this dress and reall...       3                0   \n",
      "1  I love, love, love this jumpsuit. it's fun, fl...       5                1   \n",
      "2  This shirt is very flattering to all due to th...       5                1   \n",
      "3  I love tracy reese dresses, but this one is no...       2                0   \n",
      "4  I aded this in my basket at hte last mintue to...       5                1   \n",
      "\n",
      "   Positive Feedback Count   Division Name Department Name Class Name  \\\n",
      "0                        0         General         Dresses    Dresses   \n",
      "1                        0  General Petite         Bottoms      Pants   \n",
      "2                        6         General            Tops    Blouses   \n",
      "3                        4         General         Dresses    Dresses   \n",
      "4                        1  General Petite            Tops      Knits   \n",
      "\n",
      "   Review Length  \n",
      "0             98  \n",
      "1             22  \n",
      "2             36  \n",
      "3             98  \n",
      "4            101  \n"
     ]
    }
   ],
   "source": [
    "# Display basic info about the dataset\n",
    "print(\"Basic Information about the Dataset:\")\n",
    "clothing.info()\n",
    "\n",
    "# Display the first few rows to understand the structure of the dataset\n",
    "print(\"\\nFirst few rows of the dataset:\")\n",
    "print(clothing.head())\n"
   ]
  },
  {
   "cell_type": "markdown",
   "metadata": {},
   "source": [
    "### **Main observations are as follows:**"
   ]
  },
  {
   "cell_type": "code",
   "execution_count": 5,
   "metadata": {},
   "outputs": [
    {
     "name": "stdout",
     "output_type": "stream",
     "text": [
      "\n",
      "Class Distribution of 'Recommended IND':\n",
      "Recommended IND\n",
      "1    16087\n",
      "0     3575\n",
      "Name: count, dtype: int64\n",
      "\n",
      "Missing Data in Each Column:\n",
      "Clothing ID                0\n",
      "Age                        0\n",
      "Title                      0\n",
      "Review Text                0\n",
      "Rating                     0\n",
      "Recommended IND            0\n",
      "Positive Feedback Count    0\n",
      "Division Name              0\n",
      "Department Name            0\n",
      "Class Name                 0\n",
      "Review Length              0\n",
      "dtype: int64\n"
     ]
    },
    {
     "data": {
      "image/png": "[encoded data removed]",
      "text/plain": [
       "<Figure size 600x400 with 1 Axes>"
      ]
     },
     "metadata": {},
     "output_type": "display_data"
    },
    {
     "name": "stderr",
     "output_type": "stream",
     "text": [
      "/opt/anaconda3/lib/python3.11/site-packages/seaborn/_oldcore.py:1119: FutureWarning: use_inf_as_na option is deprecated and will be removed in a future version. Convert inf values to NaN before operating instead.\n",
      "  with pd.option_context('mode.use_inf_as_na', True):\n"
     ]
    },
    {
     "data": {
      "image/png": "[encoded data removed]",
      "text/plain": [
       "<Figure size 800x600 with 1 Axes>"
      ]
     },
     "metadata": {},
     "output_type": "display_data"
    }
   ],
   "source": [
    "# Class Imbalance (Recommended IND)\n",
    "print(\"\\nClass Distribution of 'Recommended IND':\")\n",
    "print(clothing['Recommended IND'].value_counts())\n",
    "\n",
    "# Missing values check\n",
    "print(\"\\nMissing Data in Each Column:\")\n",
    "print(clothing.isnull().sum())\n",
    "\n",
    "# Distribution of 'Recommended IND'\n",
    "plt.figure(figsize=(6, 4))\n",
    "sns.countplot(data=clothing, x='Recommended IND', palette='coolwarm')\n",
    "plt.title('Distribution of Recommendations (Recommended IND)')\n",
    "plt.xlabel('Recommended (1 = Yes, 0 = No)')\n",
    "plt.ylabel('Count')\n",
    "plt.show()\n",
    "\n",
    "# Distribution of review lengths\n",
    "plt.figure(figsize=(8, 6))\n",
    "sns.histplot(clothing['Review Length'], bins=30, kde=True)\n",
    "plt.title('Distribution of Review Lengths')\n",
    "plt.xlabel('Number of Words')\n",
    "plt.ylabel('Frequency')\n",
    "plt.show()\n"
   ]
  },
  {
   "cell_type": "markdown",
   "metadata": {
    "jp-MarkdownHeadingCollapsed": true
   },
   "source": [
    "#### Class Imbalance:\n",
    "\n",
    "After checking the distribution of the Recommended IND column (1 = Recommended, 0 = Not Recommended) to see if the data is skewed towards one class. A balanced dataset is crucial for building accurate models. However there is a imbalance in class. One class of recommended reviews dominates, it could skew model predictions, making it biased towards the more frequent class.\n",
    "\n",
    "#### Long Reviews (Outliers):\n",
    "\n",
    "Similarly, we identified very long reviews (more than 100 words) as potential outliers. These reviews could dominate the analysis, so it's important to examine them, while reviewing the dataset. \n",
    "Extremely long reviews could distort the distribution of the dataset and might require special handling.\n",
    "\n",
    "#### Noisy Data:\n",
    "Very short reviews are unlikely to contain meaningful information, and long reviews could be outliers. Both cases can affect the quality of the analysis.\n",
    "\n",
    "#### Missing values : \n",
    "There are no nulls/missing values in the data."
   ]
  },
  {
   "cell_type": "markdown",
   "metadata": {},
   "source": [
    "### Analytical Insights: \n",
    "- **Sentiment Analysis**: The *Review Text* combined with *Recommended IND* can be used to predict whether a customer would recommend a *product*.\n",
    "-  **Demographic Analysis**: The *Age* of the reviewer allows for age-specific analysis to see how different *age groups* respond to products.\n",
    "-  **Feedback and Product Improvement**: By analyzing *Positive Feedback Count*, businesses can prioritize addressing common issues in products or further enhancing products that are well-received."
   ]
  },
  {
   "cell_type": "markdown",
   "metadata": {},
   "source": [
    "\n",
    "# 1.2 Pre-processing data\n",
    "Performing the required text pre-processing steps."
   ]
  },
  {
   "cell_type": "code",
   "execution_count": 6,
   "metadata": {},
   "outputs": [],
   "source": [
    "# Preprocessing function that includes all steps\n",
    "def preprocess_review(review, rare_words, most_common_words):\n",
    "    # Break the reviews into individual words and make everything lowercase\n",
    "    tokens = tokenize(review)\n",
    "    \n",
    "    # Removing words that are less than 2 characters long (they're usually not useful)\n",
    "    tokens = [token for token in tokens if len(token) > 1]\n",
    "    \n",
    "    # Taking out common stopwords like \"the\" and \"is\" since they don't add much meaning\n",
    "    tokens = [token for token in tokens if token not in stopwords]\n",
    "    \n",
    "    # Excluding words that only show up once in the entire dataset\n",
    "    tokens = [token for token in tokens if token not in rare_words]\n",
    "    \n",
    "    # Getting rid of the top 20 most frequent words, as they can impact the analysis by providing emphasis on them due to frequency. \n",
    "    tokens = [token for token in tokens if token not in most_common_words]\n",
    "    \n",
    "    return tokens\n"
   ]
  },
  {
   "cell_type": "markdown",
   "metadata": {},
   "source": [
    "### Tokenization\n",
    "- Tokenizes the review text using the regular expression specified in the task to examine how many tokens (words) are extracted.\n",
    " \n",
    "*Each review is broken down into individual words (tokens) using a predefined regular expression. This ensures consistency and allows to handle word variations such as hyphenated words(-) and apostrophes(,).*"
   ]
  },
  {
   "cell_type": "code",
   "execution_count": 7,
   "metadata": {},
   "outputs": [
    {
     "name": "stdout",
     "output_type": "stream",
     "text": [
      "\n",
      "Step 4: Tokenization completed (First 5 tokenized reviews):\n",
      "                                         Review Text  \\\n",
      "0  I had such high hopes for this dress and reall...   \n",
      "1  I love, love, love this jumpsuit. it's fun, fl...   \n",
      "2  This shirt is very flattering to all due to th...   \n",
      "3  I love tracy reese dresses, but this one is no...   \n",
      "4  I aded this in my basket at hte last mintue to...   \n",
      "\n",
      "                                              tokens  \n",
      "0  [i, had, such, high, hopes, for, this, dress, ...  \n",
      "1  [i, love, love, love, this, jumpsuit, it's, fu...  \n",
      "2  [this, shirt, is, very, flattering, to, all, d...  \n",
      "3  [i, love, tracy, reese, dresses, but, this, on...  \n",
      "4  [i, aded, this, in, my, basket, at, hte, last,...  \n"
     ]
    }
   ],
   "source": [
    "# Define regex for tokenization\n",
    "# We use the given regular expression to tokenize the reviews. This regex handles words and hyphenated words.\n",
    "token_pattern = r\"[a-zA-Z]+(?:[-'][a-zA-Z]+)?\"\n",
    "\n",
    "# Function to tokenize the review text using the provided regex pattern\n",
    "def tokenize(text):\n",
    "    return re.findall(token_pattern, text.lower())\n",
    "\n",
    "# Apply tokenization\n",
    "# For each review in the dataset, we tokenize the 'Review Text' and store the tokens in a new column 'tokens'\n",
    "clothing['tokens'] = clothing['Review Text'].apply(tokenize)\n",
    "print(\"\\nStep 4: Tokenization completed (First 5 tokenized reviews):\")\n",
    "print(clothing[['Review Text', 'tokens']].head())"
   ]
  },
  {
   "cell_type": "markdown",
   "metadata": {},
   "source": [
    "- The above code correctly captures the words, hyphenated phrases, and words with apostrophes.\n",
    "-  All text is converted to lowercase during tokenization step 1 using text.lower() to ensure consistency throughout."
   ]
  },
  {
   "cell_type": "markdown",
   "metadata": {},
   "source": [
    "### Rare and Frequent Words Removal:\n",
    "\n",
    "- **Rare words**: Words that appear only once across the entire dataset are removed, as they generally do not provide much value in classification tasks and can add unnecessary noise.\n",
    "- **Frequent words**: The top 20 most frequent words are also removed, as they are tend to be overly common and less informative."
   ]
  },
  {
   "cell_type": "code",
   "execution_count": 8,
   "metadata": {},
   "outputs": [
    {
     "name": "stdout",
     "output_type": "stream",
     "text": [
      "\n",
      "Step 5: Rare words identified (Total rare words: 6755)\n"
     ]
    }
   ],
   "source": [
    "# Step 5: Remove words that appear only once\n",
    "all_tokens = [word for tokens in clothing['tokens'] for word in tokens]\n",
    "word_freq = Counter(all_tokens)\n",
    "#Identify rare words (words that appear only once in the dataset)\n",
    "rare_words = {word for word, count in word_freq.items() if count == 1}\n",
    "print(f\"\\nStep 5: Rare words identified (Total rare words: {len(rare_words)})\")\n"
   ]
  },
  {
   "cell_type": "code",
   "execution_count": 9,
   "metadata": {},
   "outputs": [
    {
     "name": "stdout",
     "output_type": "stream",
     "text": [
      "\n",
      "Step 6: Top 20 most frequent words identified: ['the', 'i', 'and', 'a', 'it', 'is', 'this', 'to', 'in', 'but', 'on', 'for', 'of', 'with', 'was', 'so', 'my', 'dress', 'not', 'that']\n"
     ]
    }
   ],
   "source": [
    "# Remove the top 20 most frequent words\n",
    "most_common_words = [word for word, count in word_freq.most_common(20)]\n",
    "print(f\"\\nStep 6: Top 20 most frequent words identified: {most_common_words}\")\n",
    "\n"
   ]
  },
  {
   "cell_type": "markdown",
   "metadata": {},
   "source": [
    "*The top 20 most frequent words : These words, although common, don't help distinguish between different reviews or contribute meaningfully to classification tasks, so removing them helps focus on more informative tokens.*"
   ]
  },
  {
   "cell_type": "markdown",
   "metadata": {},
   "source": [
    "### Length Filtering: \n",
    "Words shorter than two characters are excluded, as they are not likely to add value in understanding the reviews."
   ]
  },
  {
   "cell_type": "code",
   "execution_count": 10,
   "metadata": {},
   "outputs": [
    {
     "name": "stdout",
     "output_type": "stream",
     "text": [
      "\n",
      "Step 5: Remove Words Shorter Than 2 Characters\n",
      "                                         Review Text  \\\n",
      "0  I had such high hopes for this dress and reall...   \n",
      "1  I love, love, love this jumpsuit. it's fun, fl...   \n",
      "2  This shirt is very flattering to all due to th...   \n",
      "3  I love tracy reese dresses, but this one is no...   \n",
      "4  I aded this in my basket at hte last mintue to...   \n",
      "\n",
      "                                              tokens  \n",
      "0  [had, such, high, hopes, for, this, dress, and...  \n",
      "1  [love, love, love, this, jumpsuit, it's, fun, ...  \n",
      "2  [this, shirt, is, very, flattering, to, all, d...  \n",
      "3  [love, tracy, reese, dresses, but, this, one, ...  \n",
      "4  [aded, this, in, my, basket, at, hte, last, mi...  \n"
     ]
    }
   ],
   "source": [
    "# Removing words shorter than 2 characters\n",
    "clothing['tokens'] = clothing['tokens'].apply(lambda x: [word for word in x if len(word) > 1])\n",
    "print(\"\\nStep 5: Remove Words Shorter Than 2 Characters\")\n",
    "print(clothing[['Review Text', 'tokens']].head())\n",
    "\n",
    "## The condition len(token) > 1 ensures that any word shorter than 2 characters is removed.\n",
    "## For example, if a token is \"a\" or \"I\", it will be excluded from the processed review."
   ]
  },
  {
   "cell_type": "markdown",
   "metadata": {},
   "source": [
    "### Stopword Removal\n",
    "- We remove common words (like \"the\", \"is\", \"in\") that do not carry much meaningful information for the task.\n",
    "\n",
    "*The provided stopwords list in the assignment folder is used to identify these words.*"
   ]
  },
  {
   "cell_type": "code",
   "execution_count": 11,
   "metadata": {},
   "outputs": [
    {
     "name": "stdout",
     "output_type": "stream",
     "text": [
      "\n",
      "Most Common Words in the Dataset (Before Stopword Removal):\n",
      "'the': 68632 times\n",
      "'and': 43871 times\n",
      "'it': 38285 times\n",
      "'is': 27497 times\n",
      "'this': 23001 times\n",
      "'to': 21865 times\n",
      "'in': 18533 times\n",
      "'but': 14738 times\n",
      "'on': 13717 times\n",
      "'for': 12499 times\n"
     ]
    }
   ],
   "source": [
    "all_tokens_before = [token for tokens in clothing['tokens'] for token in tokens]\n",
    "\n",
    "# Count the frequency of each word using Counter (before stopword removal)\n",
    "word_freq_before = Counter(all_tokens_before)\n",
    "\n",
    "# Display the 10 most common words in the dataset before stopword removal\n",
    "most_common_words_before = word_freq_before.most_common(10)\n",
    "print(\"\\nMost Common Words in the Dataset (Before Stopword Removal):\")\n",
    "for word, freq in most_common_words_before:\n",
    "    print(f\"'{word}': {freq} times\")"
   ]
  },
  {
   "cell_type": "markdown",
   "metadata": {},
   "source": [
    "**These words appear frequently across the dataset but don't carry enough unique meaning to contribute to the analysis.**"
   ]
  },
  {
   "cell_type": "code",
   "execution_count": 12,
   "metadata": {},
   "outputs": [
    {
     "name": "stdout",
     "output_type": "stream",
     "text": [
      "\n",
      "Most Common Words in the Dataset (After Stopword Removal):\n",
      "'dress': 9334 times\n",
      "'size': 7860 times\n",
      "'love': 7722 times\n",
      "'fit': 6582 times\n",
      "'top': 6542 times\n",
      "'wear': 5715 times\n",
      "'great': 5302 times\n",
      "'fabric': 4306 times\n",
      "'color': 4099 times\n",
      "'small': 4097 times\n"
     ]
    }
   ],
   "source": [
    "# Remove stopwords using stopwords_en.txt\n",
    "with open('stopwords_en.txt', 'r') as file:\n",
    "    stopwords = set(file.read().split())\n",
    "clothing['tokens'] = clothing['tokens'].apply(lambda x: [word for word in x if word not in stopwords])\n",
    "\n",
    "all_tokens_after = [token for tokens in clothing['tokens'] for token in tokens]\n",
    "\n",
    "# Count the frequency of each word using Counter (after stopword removal)\n",
    "word_freq_after = Counter(all_tokens_after)\n",
    "\n",
    "# Display the 10 most common words in the dataset after stopword removal\n",
    "most_common_words_after = word_freq_after.most_common(10)\n",
    "print(\"\\nMost Common Words in the Dataset (After Stopword Removal):\")\n",
    "for word, freq in most_common_words_after:\n",
    "    print(f\"'{word}': {freq} times\")\n",
    "\n"
   ]
  },
  {
   "cell_type": "markdown",
   "metadata": {},
   "source": [
    "### Applying the full pre-processing pipeline using preprocess_review function defined above"
   ]
  },
  {
   "cell_type": "code",
   "execution_count": 13,
   "metadata": {},
   "outputs": [
    {
     "name": "stdout",
     "output_type": "stream",
     "text": [
      "\n",
      "Step 9: Preprocessing completed for all reviews\n",
      "\n",
      "First 5 processed reviews:\n",
      "                                         Review Text  \\\n",
      "0  I had such high hopes for this dress and reall...   \n",
      "1  I love, love, love this jumpsuit. it's fun, fl...   \n",
      "2  This shirt is very flattering to all due to th...   \n",
      "3  I love tracy reese dresses, but this one is no...   \n",
      "4  I aded this in my basket at hte last mintue to...   \n",
      "\n",
      "                                    Processed Review  \n",
      "0  high hopes wanted work initially ordered petit...  \n",
      "1  love love love jumpsuit fun flirty fabulous ti...  \n",
      "2  shirt flattering due adjustable front tie perf...  \n",
      "3  love tracy reese dresses petite feet tall wear...  \n",
      "4  basket hte person store pick teh color pale ht...  \n"
     ]
    }
   ],
   "source": [
    "# Applying the full pre-processing pipeline to each review using the preprocess_review function\n",
    "clothing['Processed Review'] = clothing['Review Text'].apply(lambda review: ' '.join(preprocess_review(review, rare_words, most_common_words)))\n",
    "print(\"\\nStep 9: Preprocessing completed for all reviews\")\n",
    "\n",
    "# Display the first 5 rows without truncation\n",
    "print(\"\\nFirst 5 processed reviews:\")\n",
    "print(clothing[['Review Text', 'Processed Review']].head())"
   ]
  },
  {
   "cell_type": "markdown",
   "metadata": {},
   "source": [
    "## Saving required outputs\n"
   ]
  },
  {
   "cell_type": "code",
   "execution_count": 14,
   "metadata": {},
   "outputs": [
    {
     "name": "stdout",
     "output_type": "stream",
     "text": [
      "\n",
      "Step 10: Processed data saved to 'processed.csv'\n"
     ]
    }
   ],
   "source": [
    "clothing.to_csv('processed.csv', index=False)\n",
    "print(\"\\nStep 10: Processed data saved to 'processed.csv'\")\n"
   ]
  },
  {
   "cell_type": "markdown",
   "metadata": {},
   "source": [
    "-> **Ouput saved**\n",
    "\n",
    "*Processed Reviews: A cleaned version of each review is saved in processed.csv, where all the pre-processing steps have been completed.*"
   ]
  },
  {
   "cell_type": "markdown",
   "metadata": {},
   "source": [
    "#### Vocabulary Creation\n",
    "- After pre-processing, a vocabulary of unique words from the cleaned reviews is generated.\n",
    "- Each word is assigned an index, and the vocabulary is saved in a format that will be used in subsequent tasks."
   ]
  },
  {
   "cell_type": "code",
   "execution_count": 15,
   "metadata": {},
   "outputs": [
    {
     "name": "stdout",
     "output_type": "stream",
     "text": [
      "\n",
      "Step 11: Vocabulary saved to 'vocab.txt'\n"
     ]
    }
   ],
   "source": [
    "\n",
    "vocab = sorted(set([word for tokens in clothing['Processed Review'].apply(str.split) for word in tokens]))\n",
    "vocab_dict = {word: idx for idx, word in enumerate(vocab)}\n",
    "\n",
    "with open('vocab.txt', 'w') as vocab_file:\n",
    "    for word, idx in vocab_dict.items():\n",
    "        vocab_file.write(f\"{word}:{idx}\\n\")\n",
    "print(\"\\nStep 11: Vocabulary saved to 'vocab.txt'\")\n"
   ]
  },
  {
   "cell_type": "markdown",
   "metadata": {},
   "source": [
    "-> **Ouput saved**\n",
    "#### Vocabulary \n",
    "*A list of all unique words, sorted alphabetically and assigned a unique index, is saved in vocab.txt.*\n",
    "*This vocabulary will be crucial for converting text data into feature vectors for machine learning models in task 2 and task 3.*"
   ]
  },
  {
   "cell_type": "markdown",
   "metadata": {},
   "source": [
    "## Summary\n",
    "\n",
    " **Task 1** was an important foundational step in cleaning and organizing the text data, setting the base for more complex natural language processing tasks in task 2 and 3.\n",
    "\n",
    "## References\n",
    "1. https://www.kaggle.com/datasets/nicapotato/womens-ecommerce-clothing-reviews"
   ]
  },
  {
   "cell_type": "code",
   "execution_count": null,
   "metadata": {},
   "outputs": [],
   "source": []
  }
 ],
 "metadata": {
  "kernelspec": {
   "display_name": "Python 3 (ipykernel)",
   "language": "python",
   "name": "python3"
  },
  "language_info": {
   "codemirror_mode": {
    "name": "ipython",
    "version": 3
   },
   "file_extension": ".py",
   "mimetype": "text/x-python",
   "name": "python",
   "nbconvert_exporter": "python",
   "pygments_lexer": "ipython3",
   "version": "3.11.7"
  }
 },
 "nbformat": 4,
 "nbformat_minor": 4
}
